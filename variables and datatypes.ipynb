{
 "cells": [
  {
   "cell_type": "code",
   "execution_count": 7,
   "id": "a4af0fa3-55d0-4061-9ed1-dcb1073161b5",
   "metadata": {},
   "outputs": [],
   "source": [
    "a=10\n",
    "b=20\n",
    "c=10"
   ]
  },
  {
   "cell_type": "code",
   "execution_count": 7,
   "id": "e5c4c602-ebc6-46f2-a389-61a8a312023c",
   "metadata": {},
   "outputs": [],
   "source": [
    "a=10\n",
    "b=20\n",
    "c=10"
   ]
  },
  {
   "cell_type": "code",
   "execution_count": 8,
   "id": "2f847661-aa58-4489-b630-a281d6c36a10",
   "metadata": {},
   "outputs": [
    {
     "name": "stdout",
     "output_type": "stream",
     "text": [
      "10\n"
     ]
    }
   ],
   "source": [
    "print(a)"
   ]
  },
  {
   "cell_type": "raw",
   "id": "4629534b-4bb5-454d-8604-a61caee488d1",
   "metadata": {},
   "source": [
    "print(a+b)"
   ]
  },
  {
   "cell_type": "code",
   "execution_count": 9,
   "id": "8c41cf53-10da-4bb0-8877-4304897ab45a",
   "metadata": {},
   "outputs": [],
   "source": [
    "a,b,c=10,20,30"
   ]
  },
  {
   "cell_type": "code",
   "execution_count": 4,
   "id": "aca0c157-d5ea-41a5-beed-0fa87dd2325d",
   "metadata": {},
   "outputs": [],
   "source": [
    "a=b=c=10"
   ]
  },
  {
   "cell_type": "markdown",
   "id": "bfb7906d-8b01-4b26-a675-ac2a773fca0f",
   "metadata": {},
   "source": [
    "#rules\n",
    "#variables should start with a letter or a underscore\n",
    "#variables names can contain (A to Z) numbers(0 to 9) and underscore(_)\n",
    "#case sensitive(Name orname is different)"
   ]
  },
  {
   "cell_type": "code",
   "execution_count": 2,
   "id": "6faf2b6d-ed84-4143-9964-e02c08f0f1ce",
   "metadata": {},
   "outputs": [
    {
     "name": "stdout",
     "output_type": "stream",
     "text": [
      "21\n"
     ]
    }
   ],
   "source": [
    "name=\"kavana\"\n",
    "age=20\n",
    "is_student=True"
   ]
  },
  {
   "cell_type": "code",
   "execution_count": 3,
   "id": "9ebdd47a-a070-47c2-81f6-5387f25ea1aa",
   "metadata": {},
   "outputs": [],
   "source": [
    "#data types"
   ]
  },
  {
   "cell_type": "code",
   "execution_count": 10,
   "id": "95f48eaf-58a3-4df0-9d85-7d1e8852c1d7",
   "metadata": {},
   "outputs": [],
   "source": [
    "#interger int\n",
    "#decimal float\n",
    "#srting\n",
    "#bool"
   ]
  },
  {
   "cell_type": "code",
   "execution_count": 17,
   "id": "14c75b5f-3685-479d-9946-04bc1b80a923",
   "metadata": {},
   "outputs": [
    {
     "name": "stdout",
     "output_type": "stream",
     "text": [
      "<class 'float'>\n",
      "<class 'int'>\n",
      "<class 'bool'>\n",
      "<class 'str'>\n"
     ]
    }
   ],
   "source": [
    "name=\"Kavana\" #string datatype\n",
    "age=22#int\n",
    "is_student=False\n",
    "weight =49.8\n",
    "print(type(weight))\n",
    "print(type(age))\n",
    "print(type(is_student))\n",
    "print(type(name))\n",
    "\n"
   ]
  },
  {
   "cell_type": "code",
   "execution_count": 18,
   "id": "6de157c4-94c0-4308-8999-53ae8f2dbb15",
   "metadata": {},
   "outputs": [],
   "source": [
    "#python is dynamically change means we can change any time as we can"
   ]
  },
  {
   "cell_type": "code",
   "execution_count": 19,
   "id": "7917dedb-ec4f-4eb1-8f30-1885b19c3c8d",
   "metadata": {},
   "outputs": [],
   "source": [
    "#type convertions"
   ]
  },
  {
   "cell_type": "code",
   "execution_count": 34,
   "id": "c0046b36-cc0c-4170-b1db-8b9511b63a36",
   "metadata": {},
   "outputs": [
    {
     "name": "stdout",
     "output_type": "stream",
     "text": [
      "<class 'bool'>\n",
      "22.0\n"
     ]
    }
   ],
   "source": [
    "name=\"Kavana\" #string datatype\n",
    "age=22#int\n",
    "is_student=False\n",
    "weight =49.8\n",
    "print(type(is_student))\n",
    "age_float=float(age)\n",
    "print(age_float)\n"
   ]
  },
  {
   "cell_type": "code",
   "execution_count": 24,
   "id": "8545e2a3-d743-40c8-a9b3-e1a2843d6037",
   "metadata": {},
   "outputs": [
    {
     "ename": "TypeError",
     "evalue": "can only concatenate str (not \"int\") to str",
     "output_type": "error",
     "traceback": [
      "\u001b[1;31m---------------------------------------------------------------------------\u001b[0m",
      "\u001b[1;31mTypeError\u001b[0m                                 Traceback (most recent call last)",
      "Cell \u001b[1;32mIn[24], line 6\u001b[0m\n\u001b[0;32m      4\u001b[0m weight \u001b[38;5;241m=\u001b[39m\u001b[38;5;241m49.8\u001b[39m\n\u001b[0;32m      5\u001b[0m s\u001b[38;5;241m=\u001b[39m\u001b[38;5;124m\"\u001b[39m\u001b[38;5;124m100\u001b[39m\u001b[38;5;124m\"\u001b[39m\n\u001b[1;32m----> 6\u001b[0m \u001b[38;5;28mprint\u001b[39m(\u001b[43ms\u001b[49m\u001b[38;5;241;43m+\u001b[39;49m\u001b[43mage\u001b[49m)\n",
      "\u001b[1;31mTypeError\u001b[0m: can only concatenate str (not \"int\") to str"
     ]
    }
   ],
   "source": [
    "name=\"Kavana\" #string datatype\n",
    "age=22#int\n",
    "is_student=False\n",
    "weight =49.8\n",
    "s=\"100\"\n",
    "print(s+age)"
   ]
  },
  {
   "cell_type": "code",
   "execution_count": 25,
   "id": "6165bc30-49d1-4723-9aa5-5cb1440f3f55",
   "metadata": {},
   "outputs": [
    {
     "name": "stdout",
     "output_type": "stream",
     "text": [
      "122\n"
     ]
    }
   ],
   "source": [
    "name=\"Kavana\" #string datatype\n",
    "age=22#int\n",
    "is_student=False\n",
    "weight =49.8\n",
    "s=\"100\"\n",
    "print(int(s)+age)"
   ]
  },
  {
   "cell_type": "code",
   "execution_count": 26,
   "id": "f854028c-eaa1-425f-9693-f6e97102a666",
   "metadata": {},
   "outputs": [],
   "source": [
    "#arthimatic operators"
   ]
  },
  {
   "cell_type": "code",
   "execution_count": 27,
   "id": "3dc770e1-9a24-4c5b-a9b8-74f3aba573ea",
   "metadata": {},
   "outputs": [],
   "source": [
    "# a+b here + is operation\n",
    "#a and b are operand"
   ]
  },
  {
   "cell_type": "code",
   "execution_count": null,
   "id": "ce39acb7-dec8-4b76-9315-c846e835d5d0",
   "metadata": {},
   "outputs": [],
   "source": [
    "a=10\n",
    "b=3\n",
    "print(a+b)\n",
    "print(a-b)\n",
    "print(a*b)\n",
    "print(a/b)\n",
    "print(a//b)\n",
    "print(a%b)\n"
   ]
  },
  {
   "cell_type": "code",
   "execution_count": 29,
   "id": "1adc4d45-1606-40a9-8239-9bb108f217e4",
   "metadata": {},
   "outputs": [
    {
     "name": "stdout",
     "output_type": "stream",
     "text": [
      "13\n",
      "7\n",
      "30\n",
      "3.3333333333333335\n",
      "3\n",
      "1\n",
      "1000\n",
      "-21\n"
     ]
    }
   ],
   "source": [
    "a=10\n",
    "b=3\n",
    "print(a+b)\n",
    "print(a-b)\n",
    "print(a*b)\n",
    "print(a/b)#qutioint\n",
    "print(a//b)#qutiont exact value\n",
    "print(a%b)#reaminder\n",
    "print(a**b)\n",
    "print(a+b-a-b*2**3)\n"
   ]
  },
  {
   "cell_type": "code",
   "execution_count": 30,
   "id": "c96e8a1c-293d-4544-ae22-eec3818c2a56",
   "metadata": {},
   "outputs": [
    {
     "name": "stdout",
     "output_type": "stream",
     "text": [
      "91\n",
      "85\n",
      "264\n",
      "29.333333333333332\n",
      "29\n",
      "1\n",
      "681472\n",
      "-21\n"
     ]
    }
   ],
   "source": [
    "a=88\n",
    "b=3\n",
    "print(a+b)\n",
    "print(a-b)\n",
    "print(a*b)\n",
    "print(a/b)#qutioint\n",
    "print(a//b)#qutiont exact value\n",
    "print(a%b)#reaminder\n",
    "print(a**b)\n",
    "print(a+b-a-b*2**3)\n"
   ]
  },
  {
   "cell_type": "code",
   "execution_count": 33,
   "id": "f2815b94-f550-4904-8cce-f42a6554fce3",
   "metadata": {},
   "outputs": [
    {
     "name": "stdout",
     "output_type": "stream",
     "text": [
      "20\n",
      "20\n"
     ]
    }
   ],
   "source": [
    "#swap\n",
    "a=10\n",
    "b=20\n",
    "a=b\n",
    "b=a\n",
    "print(a)\n",
    "print(b)"
   ]
  },
  {
   "cell_type": "code",
   "execution_count": null,
   "id": "4adb0245-51fb-4433-89a5-042e0afbc85c",
   "metadata": {},
   "outputs": [],
   "source": []
  }
 ],
 "metadata": {
  "kernelspec": {
   "display_name": "Python 3 (ipykernel)",
   "language": "python",
   "name": "python3"
  },
  "language_info": {
   "codemirror_mode": {
    "name": "ipython",
    "version": 3
   },
   "file_extension": ".py",
   "mimetype": "text/x-python",
   "name": "python",
   "nbconvert_exporter": "python",
   "pygments_lexer": "ipython3",
   "version": "3.13.3"
  }
 },
 "nbformat": 4,
 "nbformat_minor": 5
}
