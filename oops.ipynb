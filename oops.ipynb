{
 "cells": [
  {
   "cell_type": "code",
   "execution_count": null,
   "id": "ed20c076-3f53-46b6-bb6d-56deda7c2495",
   "metadata": {},
   "outputs": [],
   "source": [
    "#__init__construct\n",
    "class Human:\n",
    "    def__init__(self,name,age):\n",
    "    self.name=name\n",
    "    self.age=age\n",
    "    \n",
    "\n",
    "    \n"
   ]
  },
  {
   "cell_type": "code",
   "execution_count": 2,
   "id": "493e80cc-4c0d-4387-917c-a7e550727264",
   "metadata": {},
   "outputs": [
    {
     "name": "stdout",
     "output_type": "stream",
     "text": [
      "pavan is walking\n"
     ]
    }
   ],
   "source": [
    "class Human:\n",
    "    def __init__(self,name,age):\n",
    "        self.name=name\n",
    "        self.age=age\n",
    "    def walk(self):\n",
    "        print(f\"{self.name} is walking\")\n",
    "c=Human(\"kavana\",20)\n",
    "d=Human(\"pavan\",23)\n",
    "d.walk()\n",
    "\n"
   ]
  },
  {
   "cell_type": "code",
   "execution_count": 5,
   "id": "caa7b337-480d-4ac3-b510-ddeeb63fabd7",
   "metadata": {},
   "outputs": [
    {
     "name": "stdout",
     "output_type": "stream",
     "text": [
      "constructor is called kavana\n",
      "constructor is called pavan\n",
      "pavan is walking\n",
      "kavana is walking\n"
     ]
    }
   ],
   "source": [
    "class Human:\n",
    "    def __init__(self,name,age):\n",
    "        print(\"constructor is called\",name)\n",
    "        self.name=name\n",
    "        self.age=age\n",
    "    def walk(self):\n",
    "        print(f\"{self.name} is walking\")\n",
    "c=Human(\"kavana\",20)\n",
    "d=Human(\"pavan\",23)\n",
    "d.walk()\n",
    "c.walk()\n",
    "\n"
   ]
  },
  {
   "cell_type": "code",
   "execution_count": 6,
   "id": "f89474c8-96ad-4cd8-8828-aceffd3a32ce",
   "metadata": {},
   "outputs": [],
   "source": [
    "#__init__method in python is special method that initialized an objects \n",
    "#when it is created its called automatically when you create a new instance of class"
   ]
  },
  {
   "cell_type": "code",
   "execution_count": null,
   "id": "8e0f659b-682d-40e8-8795-d9f2db3c91ef",
   "metadata": {},
   "outputs": [],
   "source": [
    "#using self in class method\n",
    "self.salary\n"
   ]
  }
 ],
 "metadata": {
  "kernelspec": {
   "display_name": "Python 3 (ipykernel)",
   "language": "python",
   "name": "python3"
  },
  "language_info": {
   "codemirror_mode": {
    "name": "ipython",
    "version": 3
   },
   "file_extension": ".py",
   "mimetype": "text/x-python",
   "name": "python",
   "nbconvert_exporter": "python",
   "pygments_lexer": "ipython3",
   "version": "3.13.3"
  }
 },
 "nbformat": 4,
 "nbformat_minor": 5
}
