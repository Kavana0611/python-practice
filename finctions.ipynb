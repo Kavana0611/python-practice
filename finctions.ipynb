{
 "cells": [
  {
   "cell_type": "code",
   "execution_count": null,
   "id": "db58f33f-299e-4e96-9a36-b37c2f65e04e",
   "metadata": {},
   "outputs": [],
   "source": [
    "#functions\n",
    "#reusalble block of code that \n",
    "#performs the specific task when it called and reduced the redandency\n",
    "#organize the code"
   ]
  },
  {
   "cell_type": "code",
   "execution_count": 2,
   "id": "4cc2eba9-806d-441f-bb9a-fc208be5d346",
   "metadata": {},
   "outputs": [
    {
     "name": "stdout",
     "output_type": "stream",
     "text": [
      "good morning\n",
      "good morning\n",
      "good morning\n"
     ]
    }
   ],
   "source": [
    "print(\"good morning\")\n",
    "print(\"good morning\")\n",
    "print(\"good morning\")"
   ]
  },
  {
   "cell_type": "code",
   "execution_count": 3,
   "id": "24644afb-23f4-40b7-8199-6bd35ee040bf",
   "metadata": {},
   "outputs": [
    {
     "name": "stdout",
     "output_type": "stream",
     "text": [
      "3\n"
     ]
    }
   ],
   "source": [
    "a,b=1,2\n",
    "print(a+b)"
   ]
  },
  {
   "cell_type": "code",
   "execution_count": 4,
   "id": "c4c9bbcc-4755-4495-975a-11a8528cfcc0",
   "metadata": {},
   "outputs": [
    {
     "name": "stdout",
     "output_type": "stream",
     "text": [
      "7\n"
     ]
    }
   ],
   "source": [
    "c,d=3,4\n",
    "print(c+d)"
   ]
  },
  {
   "cell_type": "code",
   "execution_count": 10,
   "id": "cbd8fbd0-5f7e-4fd8-98ed-efbc00a7b874",
   "metadata": {},
   "outputs": [
    {
     "name": "stdout",
     "output_type": "stream",
     "text": [
      "hello good morning\n",
      "hello good morning\n",
      "hello good morning\n",
      "hello good morning\n"
     ]
    }
   ],
   "source": [
    "def greet():\n",
    "    print(\"hello good morning\")\n",
    "greet()\n",
    "greet()\n",
    "greet()\n",
    "greet()"
   ]
  },
  {
   "cell_type": "code",
   "execution_count": 11,
   "id": "25677a2b-b8f6-411a-8166-a4e36189445c",
   "metadata": {},
   "outputs": [
    {
     "name": "stdout",
     "output_type": "stream",
     "text": [
      "hello good morning\n"
     ]
    }
   ],
   "source": [
    "def marriage():\n",
    "    print(\"boy married a girl\")\n",
    "greet()"
   ]
  },
  {
   "cell_type": "code",
   "execution_count": 24,
   "id": "66e332ce-587f-4667-a7e2-02bce4f90b59",
   "metadata": {},
   "outputs": [
    {
     "name": "stdout",
     "output_type": "stream",
     "text": [
      "boy ischandan\n",
      "girl is girlchnadana\n",
      " chandan married chnadana \n",
      "boy ischandan\n",
      "girl is girlsneha\n",
      " chandan married sneha \n",
      "boy ispavan\n",
      "girl is girlchandana\n",
      " pavan married chandana \n"
     ]
    }
   ],
   "source": [
    "def marriage(boy,girl):#parameters\n",
    "    print(f\"boy is{boy}\")\n",
    "    print(f\"girl is girl{girl}\")\n",
    "    print(f\" {boy} married {girl} \")\n",
    "marriage(\"chandan\",\"chnadana\")#positional argumnets\n",
    "marriage(\"chandan\",\"sneha\")#keyword arguments\n",
    "marriage(boy=\"pavan\",girl=\"chandana\")\n"
   ]
  },
  {
   "cell_type": "code",
   "execution_count": 23,
   "id": "98fd3ccf-a99f-4e8e-bb84-d2162bee11f8",
   "metadata": {},
   "outputs": [
    {
     "name": "stdout",
     "output_type": "stream",
     "text": [
      "[4, 3, 2, 1]\n"
     ]
    }
   ],
   "source": [
    "l=[1,2,3,4]\n",
    "l.sort(reverse=True)\n",
    "print(l)"
   ]
  },
  {
   "cell_type": "code",
   "execution_count": 25,
   "id": "b80c81b8-992f-43f6-85c5-1bb157eda7d1",
   "metadata": {},
   "outputs": [
    {
     "name": "stdout",
     "output_type": "stream",
     "text": [
      "2x1=2\n",
      "2x2=4\n",
      "2x3=6\n",
      "2x4=8\n",
      "2x5=10\n",
      "2x6=12\n",
      "2x7=14\n",
      "2x8=16\n",
      "2x9=18\n",
      "2x10=20\n"
     ]
    }
   ],
   "source": [
    "for i in range(1,11):\n",
    "    print(f\"2x{i}={2*i}\")"
   ]
  },
  {
   "cell_type": "code",
   "execution_count": 30,
   "id": "d2ce2c08-4d4b-430a-b636-c43c21845a55",
   "metadata": {},
   "outputs": [
    {
     "name": "stdout",
     "output_type": "stream",
     "text": [
      "6x1=6*i\n",
      "6x2=6*i\n",
      "6x3=6*i\n",
      "6x4=6*i\n",
      "6x5=6*i\n",
      "6x6=6*i\n",
      "6x7=6*i\n",
      "6x8=6*i\n",
      "6x9=6*i\n",
      "6x10=6*i\n",
      "70x1=70*i\n",
      "70x2=70*i\n",
      "70x3=70*i\n",
      "70x4=70*i\n",
      "70x5=70*i\n",
      "70x6=70*i\n",
      "70x7=70*i\n",
      "70x8=70*i\n",
      "70x9=70*i\n",
      "70x10=70*i\n"
     ]
    }
   ],
   "source": [
    "def tables(num):\n",
    "    for i in range(1,11):\n",
    "        print(f\"{num}x{i}={num}*i\")\n",
    "tables(6)\n",
    "tables(70)\n",
    "    \n",
    "    "
   ]
  },
  {
   "cell_type": "code",
   "execution_count": 33,
   "id": "80473820-996a-4b6b-a6e7-5265c39bfab6",
   "metadata": {},
   "outputs": [
    {
     "name": "stdout",
     "output_type": "stream",
     "text": [
      "boy ischandan\n",
      "girl is girl\n",
      " chandan married girl \n"
     ]
    }
   ],
   "source": [
    "#default argumnets\n",
    "def marriage(boy,girl=\"girl\"):\n",
    "    print(f\"boy is{boy}\")\n",
    "    print(f\"girl is {girl}\")\n",
    "    print(f\" {boy} married {girl} \")\n",
    "marriage(\"chandan\")\n"
   ]
  },
  {
   "cell_type": "code",
   "execution_count": 35,
   "id": "df8c7268-1010-42a4-aa51-97f9bcd4ab07",
   "metadata": {},
   "outputs": [
    {
     "name": "stdout",
     "output_type": "stream",
     "text": [
      "222\n"
     ]
    }
   ],
   "source": [
    "#return\n",
    "def fun(num):\n",
    "    print(str(num)*3)\n",
    "fun(2)"
   ]
  },
  {
   "cell_type": "code",
   "execution_count": 36,
   "id": "bad22ad5-5486-48f4-b2cf-4734d2833a8f",
   "metadata": {},
   "outputs": [
    {
     "name": "stdout",
     "output_type": "stream",
     "text": [
      "222\n"
     ]
    }
   ],
   "source": [
    "def fun(num):\n",
    "    print(\"2\"*3)\n",
    "fun(2)"
   ]
  },
  {
   "cell_type": "code",
   "execution_count": 40,
   "id": "e4212e18-e215-4c21-bc03-d6b79a693ebc",
   "metadata": {},
   "outputs": [
    {
     "name": "stdout",
     "output_type": "stream",
     "text": [
      "2222222\n"
     ]
    }
   ],
   "source": [
    "def fun(num):\n",
    "    print(int(str(num)*7))\n",
    "fun(2)"
   ]
  },
  {
   "cell_type": "code",
   "execution_count": 46,
   "id": "674c7549-5eed-458d-a0d5-5be7a2dbbf70",
   "metadata": {},
   "outputs": [
    {
     "name": "stdout",
     "output_type": "stream",
     "text": [
      "1111111\n",
      "1111111\n"
     ]
    },
    {
     "ename": "TypeError",
     "evalue": "unsupported operand type(s) for +: 'int' and 'NoneType'",
     "output_type": "error",
     "traceback": [
      "\u001b[1;31m---------------------------------------------------------------------------\u001b[0m",
      "\u001b[1;31mTypeError\u001b[0m                                 Traceback (most recent call last)",
      "Cell \u001b[1;32mIn[46], line 5\u001b[0m\n\u001b[0;32m      3\u001b[0m a\u001b[38;5;241m=\u001b[39m\u001b[38;5;241m100\u001b[39m\n\u001b[0;32m      4\u001b[0m b\u001b[38;5;241m=\u001b[39mfun(\u001b[38;5;241m1\u001b[39m)\n\u001b[1;32m----> 5\u001b[0m c\u001b[38;5;241m=\u001b[39m\u001b[43ma\u001b[49m\u001b[38;5;241;43m+\u001b[39;49m\u001b[43mfun\u001b[49m\u001b[43m(\u001b[49m\u001b[38;5;241;43m1\u001b[39;49m\u001b[43m)\u001b[49m\n\u001b[0;32m      6\u001b[0m \u001b[38;5;28mprint\u001b[39m(c)\n",
      "\u001b[1;31mTypeError\u001b[0m: unsupported operand type(s) for +: 'int' and 'NoneType'"
     ]
    }
   ],
   "source": [
    "def fun(num):\n",
    "    print(str(num)*7)\n",
    "a=100\n",
    "b=fun(1)\n",
    "c=a+fun(1)\n",
    "print(c)"
   ]
  },
  {
   "cell_type": "code",
   "execution_count": null,
   "id": "7f8b4764-5567-48ff-b8fe-d68538551137",
   "metadata": {},
   "outputs": [],
   "source": [
    "def func():\n",
    "    x=\"chadan\")#local varuable\n",
    "    print"
   ]
  }
 ],
 "metadata": {
  "kernelspec": {
   "display_name": "Python 3 (ipykernel)",
   "language": "python",
   "name": "python3"
  },
  "language_info": {
   "codemirror_mode": {
    "name": "ipython",
    "version": 3
   },
   "file_extension": ".py",
   "mimetype": "text/x-python",
   "name": "python",
   "nbconvert_exporter": "python",
   "pygments_lexer": "ipython3",
   "version": "3.13.3"
  }
 },
 "nbformat": 4,
 "nbformat_minor": 5
}
