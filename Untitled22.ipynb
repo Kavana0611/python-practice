{
 "cells": [
  {
   "cell_type": "code",
   "execution_count": 3,
   "id": "baca9186-5b3b-4f59-a9ce-53da600916c6",
   "metadata": {},
   "outputs": [
    {
     "name": "stdout",
     "output_type": "stream",
     "text": [
      "Attempt2\n",
      "Attempt4\n",
      "Attempt6\n",
      "Attempt8\n",
      "Attempt10\n",
      "Attempt12\n",
      "Attempt14\n",
      "Attempt16\n",
      "Attempt18\n",
      "Attempt20\n",
      "Attempt22\n",
      "Attempt24\n",
      "Attempt26\n",
      "Attempt28\n",
      "Attempt30\n",
      "Attempt32\n",
      "Attempt34\n",
      "Attempt36\n",
      "Attempt38\n",
      "Attempt40\n",
      "Attempt42\n",
      "Attempt44\n",
      "Attempt46\n",
      "Attempt48\n",
      "Attempt50\n",
      "Attempt52\n",
      "Attempt54\n",
      "Attempt56\n",
      "Attempt58\n",
      "Attempt60\n",
      "Attempt62\n",
      "Attempt64\n",
      "Attempt66\n",
      "Attempt68\n",
      "Attempt70\n",
      "Attempt72\n",
      "Attempt74\n",
      "Attempt76\n",
      "Attempt78\n",
      "Attempt80\n",
      "Attempt82\n",
      "Attempt84\n",
      "Attempt86\n",
      "Attempt88\n",
      "Attempt90\n",
      "Attempt92\n",
      "Attempt94\n",
      "Attempt96\n",
      "Attempt98\n",
      "Attempt100\n",
      "i give up!\n"
     ]
    }
   ],
   "source": [
    "is_failed = True\n",
    "i=1#attempt\n",
    "while is_failed:\n",
    "    if i%2!=0:#is not even\n",
    "        i=i+1\n",
    "        continue\n",
    "    print(f\"Attempt{i}\")\n",
    "    i=i+1\n",
    "    if i>100:\n",
    "        break\n",
    "print(\"i give up!\")"
   ]
  },
  {
   "cell_type": "code",
   "execution_count": 8,
   "id": "74ff1792-99c6-4460-b9c9-898e3072b593",
   "metadata": {},
   "outputs": [
    {
     "name": "stdout",
     "output_type": "stream",
     "text": [
      "\n",
      "kavana\n",
      "kavanakavana\n",
      "kavanakavanakavana\n",
      "kavanakavanakavanakavana\n",
      "kavanakavanakavanakavanakavana\n",
      "kavanakavanakavanakavanakavanakavana\n",
      "kavanakavanakavanakavanakavanakavanakavana\n",
      "kavanakavanakavanakavanakavanakavanakavanakavana\n",
      "kavanakavanakavanakavanakavanakavanakavanakavanakavana\n",
      "kavanakavanakavanakavanakavanakavanakavanakavanakavanakavana\n"
     ]
    }
   ],
   "source": [
    "i=0\n",
    "while i<=10:\n",
    "    print(\"kavana\"*i)\n",
    "    i=i+1\n"
   ]
  },
  {
   "cell_type": "code",
   "execution_count": null,
   "id": "a9b36234-ea28-40d1-8052-0a7ed45899d8",
   "metadata": {},
   "outputs": [],
   "source": [
    "#nested while loop\n",
    "i=0\n",
    "while i<=10:\n",
    "    x=0\n",
    "    while x<i:\n",
    "        print(\"kavana\",end=\"_\")\n",
    "        x+=1\n",
    "    i+=1\n",
    "    "
   ]
  },
  {
   "cell_type": "code",
   "execution_count": null,
   "id": "518dc176-d084-48c9-9011-26cbd693d96e",
   "metadata": {},
   "outputs": [],
   "source": [
    "pin=\"1234\"\n",
    "input_pin=input(\"PIN>>\")\n",
    "if input_pin==pin:\n",
    "    print(\"correct\")\n",
    "    break\n",
    "else:\n",
    "    print(\"incorrect\")\n",
    "    "
   ]
  },
  {
   "cell_type": "code",
   "execution_count": null,
   "id": "a72ca465-0f01-40a4-995f-163675ddd27b",
   "metadata": {},
   "outputs": [],
   "source": []
  }
 ],
 "metadata": {
  "kernelspec": {
   "display_name": "Python 3 (ipykernel)",
   "language": "python",
   "name": "python3"
  },
  "language_info": {
   "codemirror_mode": {
    "name": "ipython",
    "version": 3
   },
   "file_extension": ".py",
   "mimetype": "text/x-python",
   "name": "python",
   "nbconvert_exporter": "python",
   "pygments_lexer": "ipython3",
   "version": "3.13.3"
  }
 },
 "nbformat": 4,
 "nbformat_minor": 5
}
