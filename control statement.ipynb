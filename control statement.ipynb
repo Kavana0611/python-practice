{
 "cells": [
  {
   "cell_type": "code",
   "execution_count": 1,
   "id": "3f484912-8bdd-401e-8bac-4e36b7e966e6",
   "metadata": {},
   "outputs": [
    {
     "name": "stdout",
     "output_type": "stream",
     "text": [
      "yes x is 10\n"
     ]
    }
   ],
   "source": [
    "#conditinal statement\n",
    "#if statement\n",
    "#indentation\n",
    "x=10\n",
    "if x==10:\n",
    "    print(\"yes x is 10\")"
   ]
  },
  {
   "cell_type": "code",
   "execution_count": 4,
   "id": "f46b3ca7-0784-4c63-9b7a-05aa48702584",
   "metadata": {},
   "outputs": [
    {
     "name": "stdout",
     "output_type": "stream",
     "text": [
      "x is even\n"
     ]
    }
   ],
   "source": [
    "x=10\n",
    "if x%2==0:\n",
    "    print(\"x is even\")"
   ]
  },
  {
   "cell_type": "code",
   "execution_count": 5,
   "id": "9dcd6b6b-3928-415a-a1b1-6e3df4022b14",
   "metadata": {},
   "outputs": [],
   "source": [
    "x=23\n",
    "if x%2==0:\n",
    "    print(\"x is even\")"
   ]
  },
  {
   "cell_type": "code",
   "execution_count": 6,
   "id": "5a2dde89-a073-49a0-b29a-aea78186258e",
   "metadata": {},
   "outputs": [
    {
     "name": "stdout",
     "output_type": "stream",
     "text": [
      "x is odd\n"
     ]
    }
   ],
   "source": [
    "x=23\n",
    "if x%2==0:\n",
    "    print(\"x is even\")\n",
    "else:\n",
    "    print(\"x is odd\")"
   ]
  },
  {
   "cell_type": "code",
   "execution_count": 7,
   "id": "20027242-7ff8-4f54-8a0a-7ff32eb571bc",
   "metadata": {},
   "outputs": [
    {
     "name": "stdout",
     "output_type": "stream",
     "text": [
      "stop\n"
     ]
    }
   ],
   "source": [
    "signal = \"red\"\n",
    "if signal==\"red\":\n",
    "    print(\"stop\")\n",
    "else:\n",
    "    print(\"go\")\n"
   ]
  },
  {
   "cell_type": "code",
   "execution_count": 8,
   "id": "58d17474-fe0a-460f-89bf-aad3d66407b1",
   "metadata": {},
   "outputs": [
    {
     "name": "stdout",
     "output_type": "stream",
     "text": [
      "stop\n"
     ]
    }
   ],
   "source": [
    "signal = \"red\"\n",
    "if signal==\"red\":\n",
    "    print(\"stop\")\n",
    "elif signal ==\"yello\":\n",
    "    print(\"ready\")\n",
    "else:\n",
    "    print(\"go\")\n"
   ]
  },
  {
   "cell_type": "code",
   "execution_count": 12,
   "id": "525edde1-9584-4c2c-b9bf-accfd86ca24b",
   "metadata": {},
   "outputs": [
    {
     "name": "stdin",
     "output_type": "stream",
     "text": [
      "what is the signal blue\n"
     ]
    },
    {
     "name": "stdout",
     "output_type": "stream",
     "text": [
      "wait\n"
     ]
    }
   ],
   "source": [
    "signal = (input(\"what is the signal\"))\n",
    "if signal==\"red\":\n",
    "    print(\"stop\")\n",
    "elif signal ==\"yello\":\n",
    "    print(\"ready\")\n",
    "elif signal==\"blue\":\n",
    "    print(\"wait\")\n",
    "          \n",
    "\n",
    "else:\n",
    "    print(\"go\")\n"
   ]
  },
  {
   "cell_type": "code",
   "execution_count": 14,
   "id": "f9914ad6-16e9-47ec-9671-c0d84fbd3493",
   "metadata": {},
   "outputs": [
    {
     "name": "stdout",
     "output_type": "stream",
     "text": [
      "its not a meal time\n"
     ]
    }
   ],
   "source": [
    "time= 15\n",
    "if time == 8:\n",
    "    print(\"Its breakfast time\")\n",
    "elif time==13:\n",
    "    print(\"its lunch time\")\n",
    "elif time==20:\n",
    "    print(\"its dinner time\")\n",
    "else:\n",
    "    print(\"its not a meal time\")"
   ]
  },
  {
   "cell_type": "code",
   "execution_count": 20,
   "id": "4e071f41-c449-4724-aad6-68d2dea34bec",
   "metadata": {},
   "outputs": [
    {
     "name": "stdout",
     "output_type": "stream",
     "text": [
      "exam\n"
     ]
    },
    {
     "name": "stderr",
     "output_type": "stream",
     "text": [
      "<>:6: SyntaxWarning: \"is\" with 'int' literal. Did you mean \"==\"?\n",
      "<>:6: SyntaxWarning: \"is\" with 'int' literal. Did you mean \"==\"?\n",
      "C:\\Users\\kavan\\AppData\\Local\\Temp\\ipykernel_26408\\3210182965.py:6: SyntaxWarning: \"is\" with 'int' literal. Did you mean \"==\"?\n",
      "  elif att<75 is _teacher_frnd==True:\n"
     ]
    }
   ],
   "source": [
    "#logiical operators\n",
    "att==75\n",
    "is_teacher_frnd==True\n",
    "if att>=75:\n",
    "    print(\"exam\")\n",
    "elif att<75 is _teacher_frnd==True:\n",
    "    print(\"exam\")\n",
    "else:\n",
    "    print(\"no exam\")\n",
    "\n"
   ]
  },
  {
   "cell_type": "code",
   "execution_count": 29,
   "id": "0ec4ef7b-4425-479e-a929-2ecacebbff43",
   "metadata": {},
   "outputs": [
    {
     "name": "stdout",
     "output_type": "stream",
     "text": [
      "you get a full price\n"
     ]
    }
   ],
   "source": [
    "gender =\"female\"\n",
    "age =25\n",
    "\n",
    "if age<5:\n",
    "        print(\"ticket is free\")\n",
    "elif age<=12:\n",
    "        print(\"you get a child discount.half price\")\n",
    "elif age>=60:\n",
    "        print(\"you get a senior citizen discount\")\n",
    "else:\n",
    "    print(\"you get a full price\")\n",
    "        \n",
    "        \n",
    "    \n",
    "        \n",
    "\n",
    "\n",
    "\n",
    "    \n"
   ]
  },
  {
   "cell_type": "code",
   "execution_count": 30,
   "id": "de27fd63-c6b8-4f97-80fb-0a1321f73db9",
   "metadata": {},
   "outputs": [
    {
     "ename": "SyntaxError",
     "evalue": "invalid syntax (284869046.py, line 3)",
     "output_type": "error",
     "traceback": [
      "\u001b[1;36m  Cell \u001b[1;32mIn[30], line 3\u001b[1;36m\u001b[0m\n\u001b[1;33m    else:\u001b[0m\n\u001b[1;37m    ^\u001b[0m\n\u001b[1;31mSyntaxError\u001b[0m\u001b[1;31m:\u001b[0m invalid syntax\n"
     ]
    }
   ],
   "source": []
  },
  {
   "cell_type": "code",
   "execution_count": null,
   "id": "8ea88535-b291-4019-a0a3-2b8729bf1456",
   "metadata": {},
   "outputs": [],
   "source": []
  }
 ],
 "metadata": {
  "kernelspec": {
   "display_name": "Python 3 (ipykernel)",
   "language": "python",
   "name": "python3"
  },
  "language_info": {
   "codemirror_mode": {
    "name": "ipython",
    "version": 3
   },
   "file_extension": ".py",
   "mimetype": "text/x-python",
   "name": "python",
   "nbconvert_exporter": "python",
   "pygments_lexer": "ipython3",
   "version": "3.13.3"
  }
 },
 "nbformat": 4,
 "nbformat_minor": 5
}
