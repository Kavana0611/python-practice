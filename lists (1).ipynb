{
 "cells": [
  {
   "cell_type": "code",
   "execution_count": 1,
   "id": "fc5187f5-1dea-459d-abd0-de6548dc4486",
   "metadata": {},
   "outputs": [],
   "source": [
    "#list in python\n",
    "#colllection of items\n",
    "#ordered\n",
    "#mutable(changable\")\n",
    "#allow duplicate value\n",
    "#\n"
   ]
  },
  {
   "cell_type": "code",
   "execution_count": 2,
   "id": "42576b39-88cf-464e-b32d-7ed5d96c54fd",
   "metadata": {},
   "outputs": [],
   "source": [
    "item1=\"bru\"\n",
    "item2=\"cofee\"\n",
    "item3=\"milk\""
   ]
  },
  {
   "cell_type": "code",
   "execution_count": 3,
   "id": "2dd018df-1ee2-42ac-b42c-08b672b73d2a",
   "metadata": {},
   "outputs": [
    {
     "name": "stdout",
     "output_type": "stream",
     "text": [
      "bru\n"
     ]
    }
   ],
   "source": [
    "print(item1)"
   ]
  },
  {
   "cell_type": "code",
   "execution_count": 4,
   "id": "858597c4-29e3-4eb5-8de6-429ce26a87e3",
   "metadata": {},
   "outputs": [
    {
     "name": "stdout",
     "output_type": "stream",
     "text": [
      "['bru', 'sugar', 'milk', 'bru']\n"
     ]
    }
   ],
   "source": [
    "items=[\"bru\",\"sugar\",\"milk\",\"bru\"]\n",
    "print(items)"
   ]
  },
  {
   "cell_type": "code",
   "execution_count": 6,
   "id": "9dfde31b-5a8d-45dd-9102-1ad22814e7b7",
   "metadata": {},
   "outputs": [
    {
     "name": "stdout",
     "output_type": "stream",
     "text": [
      "bru\n"
     ]
    }
   ],
   "source": [
    "items=[\"bru\",\"sugar\",\"milk\",\"bru\"]\n",
    "print(items[0])"
   ]
  },
  {
   "cell_type": "code",
   "execution_count": 7,
   "id": "1d89b1d0-14ca-48f1-b7bd-51b08f51a486",
   "metadata": {},
   "outputs": [
    {
     "name": "stdout",
     "output_type": "stream",
     "text": [
      "bru\n"
     ]
    }
   ],
   "source": [
    "items=[\"bru\",\"sugar\",\"milk\",\"bru\"]\n",
    "print(items[-1])"
   ]
  },
  {
   "cell_type": "code",
   "execution_count": 8,
   "id": "3f4e21cb-fe6a-4236-b1f3-1969fef27bd7",
   "metadata": {},
   "outputs": [],
   "source": [
    "l=[1,\"bru\",True,[1,2,3]]#allows all type of data types"
   ]
  },
  {
   "cell_type": "code",
   "execution_count": 9,
   "id": "e4679a72-8ad3-4c3e-a544-dea032b0dc7e",
   "metadata": {},
   "outputs": [
    {
     "name": "stdout",
     "output_type": "stream",
     "text": [
      "['bru', 'sugar', 'milk', 'bru']\n"
     ]
    }
   ],
   "source": [
    "items=[\"bru\",\"sugar\",\"milk\",\"bru\"]\n",
    "\n",
    "print(items)"
   ]
  },
  {
   "cell_type": "code",
   "execution_count": 10,
   "id": "9e78985d-4a8e-4c23-9e36-7eee4cfae1ba",
   "metadata": {},
   "outputs": [
    {
     "data": {
      "text/plain": [
       "'bru'"
      ]
     },
     "execution_count": 10,
     "metadata": {},
     "output_type": "execute_result"
    }
   ],
   "source": [
    "items.pop()#removing the last element"
   ]
  },
  {
   "cell_type": "code",
   "execution_count": 11,
   "id": "a10c555e-4ae5-4c90-b607-2dac895e213d",
   "metadata": {},
   "outputs": [
    {
     "name": "stdout",
     "output_type": "stream",
     "text": [
      "['bru', 'sugar', 'milk']\n"
     ]
    }
   ],
   "source": [
    "print(items)"
   ]
  },
  {
   "cell_type": "code",
   "execution_count": 12,
   "id": "5d63ce0f-ed7f-4d92-b0da-ddddb049f35a",
   "metadata": {},
   "outputs": [
    {
     "data": {
      "text/plain": [
       "'bru'"
      ]
     },
     "execution_count": 12,
     "metadata": {},
     "output_type": "execute_result"
    }
   ],
   "source": [
    "items.pop(0)#removing the first element"
   ]
  },
  {
   "cell_type": "code",
   "execution_count": 13,
   "id": "e3cf2023-6a1e-4d23-b0d6-b791236b4423",
   "metadata": {},
   "outputs": [
    {
     "name": "stdout",
     "output_type": "stream",
     "text": [
      "['sugar', 'milk']\n"
     ]
    }
   ],
   "source": [
    "print(items)"
   ]
  },
  {
   "cell_type": "code",
   "execution_count": 14,
   "id": "3dc6fda1-9fc5-49fd-987c-ad439d872eea",
   "metadata": {},
   "outputs": [],
   "source": [
    "items.append(\"moms magic\")"
   ]
  },
  {
   "cell_type": "code",
   "execution_count": 15,
   "id": "b4948634-1c1f-4b8e-9b8f-4385426d04c0",
   "metadata": {},
   "outputs": [
    {
     "name": "stdout",
     "output_type": "stream",
     "text": [
      "['sugar', 'milk', 'moms magic']\n"
     ]
    }
   ],
   "source": [
    "print(items)"
   ]
  },
  {
   "cell_type": "code",
   "execution_count": 17,
   "id": "0eeb9b99-ca62-455d-82d7-5d122c6597b1",
   "metadata": {},
   "outputs": [],
   "source": [
    "items.remove(\"sugar\")#remove theelement in the list"
   ]
  },
  {
   "cell_type": "code",
   "execution_count": 18,
   "id": "895729c2-73de-481b-8781-218a10209437",
   "metadata": {},
   "outputs": [
    {
     "name": "stdout",
     "output_type": "stream",
     "text": [
      "['milk', 'moms magic']\n"
     ]
    }
   ],
   "source": [
    "print(items)"
   ]
  },
  {
   "cell_type": "code",
   "execution_count": 21,
   "id": "b9e9f11c-b0ff-4972-8cca-e9b4f973a54f",
   "metadata": {},
   "outputs": [],
   "source": [
    "items.insert(1,\"spon\")#insert the elemnt in the 1st position"
   ]
  },
  {
   "cell_type": "code",
   "execution_count": 22,
   "id": "b134d4f8-4ab7-4c20-b261-d6867132c404",
   "metadata": {},
   "outputs": [
    {
     "name": "stdout",
     "output_type": "stream",
     "text": [
      "['milk', 'spon', 'spon', 'moms magic']\n"
     ]
    }
   ],
   "source": [
    "print(items)"
   ]
  },
  {
   "cell_type": "code",
   "execution_count": 23,
   "id": "d976e18e-2b7e-40af-8edd-73e8b66db223",
   "metadata": {},
   "outputs": [],
   "source": [
    "#changing the specific element\n",
    "items[0]=\"coffe powder\""
   ]
  },
  {
   "cell_type": "code",
   "execution_count": 24,
   "id": "0ad23da1-679a-41f6-b148-330d847e4bd5",
   "metadata": {},
   "outputs": [
    {
     "name": "stdout",
     "output_type": "stream",
     "text": [
      "['coffe powder', 'spon', 'spon', 'moms magic']\n"
     ]
    }
   ],
   "source": [
    "print(items)"
   ]
  },
  {
   "cell_type": "code",
   "execution_count": 25,
   "id": "8796a05a-4dd0-4272-bba3-c5f8059f8ce5",
   "metadata": {},
   "outputs": [
    {
     "data": {
      "text/plain": [
       "'bru'"
      ]
     },
     "execution_count": 25,
     "metadata": {},
     "output_type": "execute_result"
    }
   ],
   "source": [
    "#string slicing\n",
    "[\"a\",\"b\",\"c\",\"d\"]\n",
    "l[1]\n"
   ]
  },
  {
   "cell_type": "code",
   "execution_count": 26,
   "id": "78628b9d-465a-4999-99ca-21407e6b1799",
   "metadata": {},
   "outputs": [
    {
     "data": {
      "text/plain": [
       "[1, 'bru']"
      ]
     },
     "execution_count": 26,
     "metadata": {},
     "output_type": "execute_result"
    }
   ],
   "source": [
    "l[0:2]"
   ]
  },
  {
   "cell_type": "code",
   "execution_count": 27,
   "id": "e7f63036-5aa7-484a-b68d-e6166bdc88a0",
   "metadata": {},
   "outputs": [
    {
     "data": {
      "text/plain": [
       "['bru', True]"
      ]
     },
     "execution_count": 27,
     "metadata": {},
     "output_type": "execute_result"
    }
   ],
   "source": [
    "l[1:3]\n"
   ]
  },
  {
   "cell_type": "code",
   "execution_count": 28,
   "id": "1a2368ce-f79c-44f0-a962-38671cd32e53",
   "metadata": {},
   "outputs": [
    {
     "name": "stdout",
     "output_type": "stream",
     "text": [
      "['coffe powder', 'spon', 'spon', 'moms magic']\n"
     ]
    }
   ],
   "source": [
    "print(items)"
   ]
  },
  {
   "cell_type": "code",
   "execution_count": 29,
   "id": "e0037418-d1d4-42c8-88d4-5ca4da82be51",
   "metadata": {},
   "outputs": [
    {
     "data": {
      "text/plain": [
       "'coffe powder'"
      ]
     },
     "execution_count": 29,
     "metadata": {},
     "output_type": "execute_result"
    }
   ],
   "source": [
    "items[0]"
   ]
  },
  {
   "cell_type": "code",
   "execution_count": 30,
   "id": "33468477-9e88-4935-8b07-10217d14fc73",
   "metadata": {},
   "outputs": [
    {
     "data": {
      "text/plain": [
       "['coffe powder', 'spon']"
      ]
     },
     "execution_count": 30,
     "metadata": {},
     "output_type": "execute_result"
    }
   ],
   "source": [
    "items[0::2]"
   ]
  },
  {
   "cell_type": "code",
   "execution_count": 31,
   "id": "de8b4dbe-d8ae-428f-9e86-9c9bbeae24d6",
   "metadata": {},
   "outputs": [
    {
     "data": {
      "text/plain": [
       "[100, 200, 300]"
      ]
     },
     "execution_count": 31,
     "metadata": {},
     "output_type": "execute_result"
    }
   ],
   "source": [
    "l=[100,200,300]\n",
    "l[0:4]"
   ]
  },
  {
   "cell_type": "code",
   "execution_count": 33,
   "id": "2d4e80ab-ff99-4f27-9e24-3fca21b428bd",
   "metadata": {},
   "outputs": [
    {
     "data": {
      "text/plain": [
       "[100]"
      ]
     },
     "execution_count": 33,
     "metadata": {},
     "output_type": "execute_result"
    }
   ],
   "source": [
    "l=[100,200,300]\n",
    "l[0::3]"
   ]
  },
  {
   "cell_type": "code",
   "execution_count": 34,
   "id": "4e837798-7c3b-4ed9-b239-a3ce3cd800b9",
   "metadata": {},
   "outputs": [
    {
     "name": "stdout",
     "output_type": "stream",
     "text": [
      "4\n"
     ]
    }
   ],
   "source": [
    "#common function\n",
    "items=[1,3,4,67]\n",
    "print(len(items))\n"
   ]
  },
  {
   "cell_type": "code",
   "execution_count": 36,
   "id": "2201a3e7-a4f4-44b7-8ed5-75e9177399a7",
   "metadata": {},
   "outputs": [
    {
     "name": "stdout",
     "output_type": "stream",
     "text": [
      "[1, 3, 4, 67]\n"
     ]
    }
   ],
   "source": [
    "items=[1,3,4,67]\n",
    "print(sorted(items))\n"
   ]
  },
  {
   "cell_type": "code",
   "execution_count": 37,
   "id": "e67ed3e9-3d31-43fa-8891-b36762821b60",
   "metadata": {},
   "outputs": [
    {
     "ename": "TypeError",
     "evalue": "unsupported operand type(s) for +: 'int' and 'str'",
     "output_type": "error",
     "traceback": [
      "\u001b[1;31m---------------------------------------------------------------------------\u001b[0m",
      "\u001b[1;31mTypeError\u001b[0m                                 Traceback (most recent call last)",
      "Cell \u001b[1;32mIn[37], line 2\u001b[0m\n\u001b[0;32m      1\u001b[0m numbers\u001b[38;5;241m=\u001b[39m[\u001b[38;5;241m1\u001b[39m,\u001b[38;5;124m\"\u001b[39m\u001b[38;5;124mkavana\u001b[39m\u001b[38;5;124m\"\u001b[39m,\u001b[38;5;241m3.2\u001b[39m,\u001b[38;5;241m4\u001b[39m]\n\u001b[1;32m----> 2\u001b[0m \u001b[38;5;28mprint\u001b[39m(\u001b[38;5;28;43msum\u001b[39;49m\u001b[43m(\u001b[49m\u001b[43mnumbers\u001b[49m\u001b[43m)\u001b[49m)\n",
      "\u001b[1;31mTypeError\u001b[0m: unsupported operand type(s) for +: 'int' and 'str'"
     ]
    }
   ],
   "source": [
    "numbers=[1,\"kavana\",3.2,4]\n",
    "print(sum(numbers))"
   ]
  },
  {
   "cell_type": "code",
   "execution_count": 43,
   "id": "d02ab25c-909e-48c1-9f8a-d7d90bc2277c",
   "metadata": {},
   "outputs": [
    {
     "name": "stdout",
     "output_type": "stream",
     "text": [
      "75\n"
     ]
    }
   ],
   "source": [
    "items=[1,3,4,67]\n",
    "print(sum(items))\n"
   ]
  },
  {
   "cell_type": "code",
   "execution_count": 44,
   "id": "18f5eee6-5abd-4338-a0c3-1e6360d75cfb",
   "metadata": {},
   "outputs": [
    {
     "name": "stdout",
     "output_type": "stream",
     "text": [
      "<class 'list'>\n"
     ]
    }
   ],
   "source": [
    "print(type(items))"
   ]
  },
  {
   "cell_type": "code",
   "execution_count": 45,
   "id": "090137ed-dc55-48f0-8f63-1324d27cb8a3",
   "metadata": {},
   "outputs": [
    {
     "data": {
      "text/plain": [
       "'apple'"
      ]
     },
     "execution_count": 45,
     "metadata": {},
     "output_type": "execute_result"
    }
   ],
   "source": [
    "my_list=[\"apple\",\"bannana\",\"orange\",\"pinapple\",\"watermelon\"]\n",
    "my_list[0]"
   ]
  },
  {
   "cell_type": "code",
   "execution_count": 46,
   "id": "4642f329-1a5b-4cc0-a2a6-a3c1ed90c083",
   "metadata": {},
   "outputs": [
    {
     "data": {
      "text/plain": [
       "'watermelon'"
      ]
     },
     "execution_count": 46,
     "metadata": {},
     "output_type": "execute_result"
    }
   ],
   "source": [
    "my_list[-1]"
   ]
  },
  {
   "cell_type": "code",
   "execution_count": 51,
   "id": "f4e24e8e-30bb-4401-9373-11283c4313db",
   "metadata": {},
   "outputs": [
    {
     "name": "stdout",
     "output_type": "stream",
     "text": [
      "[2, 4, 6, 8, 10]\n"
     ]
    }
   ],
   "source": [
    "l=[2,4,6,8]\n",
    "l.append(10)\n",
    "print(l)"
   ]
  },
  {
   "cell_type": "code",
   "execution_count": 55,
   "id": "48b127bd-211b-4426-a3c2-0df3c31059a4",
   "metadata": {},
   "outputs": [
    {
     "name": "stdout",
     "output_type": "stream",
     "text": [
      "[1, 2, 3, 99, 4, 5]\n"
     ]
    }
   ],
   "source": [
    "l=[1,2,3,4,5]\n",
    "l.insert(3,99)\n",
    "print(l)"
   ]
  },
  {
   "cell_type": "code",
   "execution_count": null,
   "id": "b871caf3-5357-4258-ae0f-5e93fa1363b8",
   "metadata": {},
   "outputs": [],
   "source": []
  }
 ],
 "metadata": {
  "kernelspec": {
   "display_name": "Python 3 (ipykernel)",
   "language": "python",
   "name": "python3"
  },
  "language_info": {
   "codemirror_mode": {
    "name": "ipython",
    "version": 3
   },
   "file_extension": ".py",
   "mimetype": "text/x-python",
   "name": "python",
   "nbconvert_exporter": "python",
   "pygments_lexer": "ipython3",
   "version": "3.13.3"
  }
 },
 "nbformat": 4,
 "nbformat_minor": 5
}
