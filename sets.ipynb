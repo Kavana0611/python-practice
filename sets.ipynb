{
 "cells": [
  {
   "cell_type": "code",
   "execution_count": null,
   "id": "156207cf-a564-4554-94a8-16a15322dff2",
   "metadata": {},
   "outputs": [],
   "source": [
    "#tuples and sets\n",
    "#tuples are immutable\n",
    "#once tuples are created we cannot modified\n",
    "#it is created by()\n"
   ]
  },
  {
   "cell_type": "code",
   "execution_count": 1,
   "id": "cbfa8792-3ebe-46ff-af14-e77edee0a80f",
   "metadata": {},
   "outputs": [
    {
     "name": "stdout",
     "output_type": "stream",
     "text": [
      "('male', 'female', 'others')\n"
     ]
    }
   ],
   "source": [
    "genders=(\"male\",\"female\",\"others\")\n",
    "print(genders)"
   ]
  },
  {
   "cell_type": "code",
   "execution_count": 5,
   "id": "4d4f7486-2574-4758-9ada-871013d2452a",
   "metadata": {},
   "outputs": [
    {
     "name": "stdout",
     "output_type": "stream",
     "text": [
      "<class 'tuple'>\n"
     ]
    }
   ],
   "source": [
    "print(type(genders))\n",
    "      "
   ]
  },
  {
   "cell_type": "code",
   "execution_count": 7,
   "id": "af710254-d97c-4005-ae07-c7c0e5a4e58c",
   "metadata": {},
   "outputs": [
    {
     "name": "stdout",
     "output_type": "stream",
     "text": [
      "female\n"
     ]
    }
   ],
   "source": [
    "print(genders[1])"
   ]
  },
  {
   "cell_type": "code",
   "execution_count": 8,
   "id": "8317cce3-3561-4c9f-b527-8331aed6528e",
   "metadata": {},
   "outputs": [
    {
     "name": "stdout",
     "output_type": "stream",
     "text": [
      "male\n"
     ]
    }
   ],
   "source": [
    "print(genders[0])"
   ]
  },
  {
   "cell_type": "code",
   "execution_count": 10,
   "id": "43dcd924-c837-42c5-9c7e-752da28a3016",
   "metadata": {},
   "outputs": [
    {
     "ename": "TypeError",
     "evalue": "'tuple' object does not support item assignment",
     "output_type": "error",
     "traceback": [
      "\u001b[1;31m---------------------------------------------------------------------------\u001b[0m",
      "\u001b[1;31mTypeError\u001b[0m                                 Traceback (most recent call last)",
      "Cell \u001b[1;32mIn[10], line 1\u001b[0m\n\u001b[1;32m----> 1\u001b[0m \u001b[43mgenders\u001b[49m\u001b[43m[\u001b[49m\u001b[38;5;241;43m0\u001b[39;49m\u001b[43m]\u001b[49m\u001b[38;5;241m=\u001b[39m\u001b[38;5;124m\"\u001b[39m\u001b[38;5;124mmale v2\u001b[39m\u001b[38;5;124m\"\u001b[39m\n",
      "\u001b[1;31mTypeError\u001b[0m: 'tuple' object does not support item assignment"
     ]
    }
   ],
   "source": [
    "genders[0]=\"male v2\""
   ]
  },
  {
   "cell_type": "code",
   "execution_count": 11,
   "id": "88e905f9-a051-49d3-bb37-40baada2b5b2",
   "metadata": {},
   "outputs": [],
   "source": [
    "#we cannot add the elements in tuples\n"
   ]
  },
  {
   "cell_type": "code",
   "execution_count": 12,
   "id": "b18cfada-b495-463e-b51e-54e18cb675c8",
   "metadata": {},
   "outputs": [
    {
     "name": "stdout",
     "output_type": "stream",
     "text": [
      "(1, 2, 3, 4, 5, 6)\n"
     ]
    }
   ],
   "source": [
    "tuple1=(1,2,3)\n",
    "tuple2=(4,5,6)\n",
    "print(tuple1+tuple2)"
   ]
  },
  {
   "cell_type": "code",
   "execution_count": 14,
   "id": "31daf72e-20e0-43fc-9c4d-a97dcf0afba7",
   "metadata": {},
   "outputs": [
    {
     "name": "stdout",
     "output_type": "stream",
     "text": [
      "1\n"
     ]
    }
   ],
   "source": [
    "genders=(\"male\",\"female\",\"others\")\n",
    "print(genders.count(\"male\"))"
   ]
  },
  {
   "cell_type": "code",
   "execution_count": 15,
   "id": "63494190-1d2d-4b22-b987-413a108c661c",
   "metadata": {},
   "outputs": [
    {
     "name": "stdout",
     "output_type": "stream",
     "text": [
      "2\n"
     ]
    }
   ],
   "source": [
    "genders=(\"male\",\"female\",\"others\",\"male\")\n",
    "print(genders.count(\"male\"))"
   ]
  },
  {
   "cell_type": "code",
   "execution_count": 16,
   "id": "486c87ba-4a4b-4325-a559-727f7faac228",
   "metadata": {},
   "outputs": [
    {
     "name": "stdout",
     "output_type": "stream",
     "text": [
      "0\n"
     ]
    }
   ],
   "source": [
    "genders=(\"male\",\"female\",\"others\",\"male\")\n",
    "print(genders.index(\"male\"))"
   ]
  },
  {
   "cell_type": "code",
   "execution_count": 17,
   "id": "031cb06c-facc-4fad-ae7d-be5965f63a2a",
   "metadata": {},
   "outputs": [],
   "source": [
    "#immutable\n",
    "#Faster than list due to immutability\n",
    "#uswd in keys in dictionaries"
   ]
  },
  {
   "cell_type": "code",
   "execution_count": 19,
   "id": "bf0c0363-f644-4f65-86d2-1cd328fd140c",
   "metadata": {},
   "outputs": [
    {
     "name": "stdout",
     "output_type": "stream",
     "text": [
      "('male', 'female', 'others', (1, 2, 3))\n"
     ]
    }
   ],
   "source": [
    "genders=(\"male\",\"female\",\"others\",(1,2,3))\n",
    "print(genders)"
   ]
  },
  {
   "cell_type": "code",
   "execution_count": 20,
   "id": "29a2a917-e2d2-443b-aa63-b95b1fff79ba",
   "metadata": {},
   "outputs": [],
   "source": [
    "#sets\n",
    "#unique number of elements\n",
    "#unorderd\n",
    "#unindexed\n"
   ]
  },
  {
   "cell_type": "code",
   "execution_count": 21,
   "id": "85ac18de-2b75-4262-a1c2-52ab2935c7f3",
   "metadata": {},
   "outputs": [
    {
     "name": "stdout",
     "output_type": "stream",
     "text": [
      "{1, 2, 3}\n"
     ]
    }
   ],
   "source": [
    "s={1,2,3}\n",
    "print(s)"
   ]
  },
  {
   "cell_type": "code",
   "execution_count": 23,
   "id": "9769e606-6be5-423e-9527-a8c727392208",
   "metadata": {},
   "outputs": [
    {
     "name": "stdout",
     "output_type": "stream",
     "text": [
      "{1, 3, 56, 12, 45}\n"
     ]
    }
   ],
   "source": [
    "s={1,45,3,12,56}\n",
    "print(s)"
   ]
  },
  {
   "cell_type": "code",
   "execution_count": 24,
   "id": "ed5793b6-afc5-4938-ad09-0b0bb3a01fcd",
   "metadata": {},
   "outputs": [
    {
     "ename": "TypeError",
     "evalue": "'set' object is not subscriptable",
     "output_type": "error",
     "traceback": [
      "\u001b[1;31m---------------------------------------------------------------------------\u001b[0m",
      "\u001b[1;31mTypeError\u001b[0m                                 Traceback (most recent call last)",
      "Cell \u001b[1;32mIn[24], line 1\u001b[0m\n\u001b[1;32m----> 1\u001b[0m \u001b[38;5;28mprint\u001b[39m(\u001b[43ms\u001b[49m\u001b[43m[\u001b[49m\u001b[38;5;241;43m0\u001b[39;49m\u001b[43m]\u001b[49m)\n",
      "\u001b[1;31mTypeError\u001b[0m: 'set' object is not subscriptable"
     ]
    }
   ],
   "source": [
    "print(s[0])"
   ]
  },
  {
   "cell_type": "code",
   "execution_count": 25,
   "id": "e46b5eac-7942-4bb5-abc7-efa0a7e3d9d8",
   "metadata": {},
   "outputs": [],
   "source": [
    "s={1,2,3}\n",
    "s.add(4)\n"
   ]
  },
  {
   "cell_type": "code",
   "execution_count": 26,
   "id": "604a7bdf-47ab-40d6-8334-c00b13193b05",
   "metadata": {},
   "outputs": [
    {
     "name": "stdout",
     "output_type": "stream",
     "text": [
      "{1, 2, 3, 4}\n"
     ]
    }
   ],
   "source": [
    "print(s)"
   ]
  },
  {
   "cell_type": "code",
   "execution_count": 28,
   "id": "70bec999-568f-4e88-8b2d-fff396ed816d",
   "metadata": {},
   "outputs": [],
   "source": [
    "s.discard(10)"
   ]
  },
  {
   "cell_type": "raw",
   "id": "e97f48e6-6cc4-464f-8ba1-0249a101bf68",
   "metadata": {},
   "source": [
    "print(s)"
   ]
  },
  {
   "cell_type": "code",
   "execution_count": 29,
   "id": "e2655c76-d448-421a-beb1-d25149e4068d",
   "metadata": {},
   "outputs": [
    {
     "name": "stdout",
     "output_type": "stream",
     "text": [
      "{1, 2, 3, 4}\n"
     ]
    }
   ],
   "source": [
    "print(s)"
   ]
  },
  {
   "cell_type": "code",
   "execution_count": 30,
   "id": "85224383-cf64-4249-a505-823814672003",
   "metadata": {},
   "outputs": [
    {
     "data": {
      "text/plain": [
       "1"
      ]
     },
     "execution_count": 30,
     "metadata": {},
     "output_type": "execute_result"
    }
   ],
   "source": [
    "s.pop()"
   ]
  },
  {
   "cell_type": "code",
   "execution_count": null,
   "id": "b9236453-0ff9-44f5-b9e4-394facfb0858",
   "metadata": {},
   "outputs": [],
   "source": []
  }
 ],
 "metadata": {
  "kernelspec": {
   "display_name": "Python 3 (ipykernel)",
   "language": "python",
   "name": "python3"
  },
  "language_info": {
   "codemirror_mode": {
    "name": "ipython",
    "version": 3
   },
   "file_extension": ".py",
   "mimetype": "text/x-python",
   "name": "python",
   "nbconvert_exporter": "python",
   "pygments_lexer": "ipython3",
   "version": "3.13.3"
  }
 },
 "nbformat": 4,
 "nbformat_minor": 5
}
